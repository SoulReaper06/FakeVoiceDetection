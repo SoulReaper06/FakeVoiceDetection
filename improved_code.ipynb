{
 "cells": [
  {
   "cell_type": "code",
   "execution_count": 1,
   "metadata": {},
   "outputs": [
    {
     "name": "stderr",
     "output_type": "stream",
     "text": [
      "2023-09-29 13:00:55.258723: I tensorflow/core/platform/cpu_feature_guard.cc:193] This TensorFlow binary is optimized with oneAPI Deep Neural Network Library (oneDNN) to use the following CPU instructions in performance-critical operations:  AVX2 AVX512F FMA\n",
      "To enable them in other operations, rebuild TensorFlow with the appropriate compiler flags.\n",
      "2023-09-29 13:00:55.393085: E tensorflow/stream_executor/cuda/cuda_blas.cc:2981] Unable to register cuBLAS factory: Attempting to register factory for plugin cuBLAS when one has already been registered\n",
      "2023-09-29 13:00:55.892786: W tensorflow/stream_executor/platform/default/dso_loader.cc:64] Could not load dynamic library 'libnvinfer.so.7'; dlerror: libnvinfer.so.7: cannot open shared object file: No such file or directory; LD_LIBRARY_PATH: /home/jonat/miniconda3/envs/audioDetection/lib/python3.9/site-packages/nvidia/cudnn/lib:/home/jonat/miniconda3/envs/audioDetection/lib/:/home/jonat/miniconda3/lib/python3.11/site-packages/nvidia/cudnn/lib:/home/jonat/miniconda3/lib/:/home/jonat/miniconda3/lib/python3.11/site-packages/nvidia/cudnn/lib:/home/jonat/miniconda3/lib/:\n",
      "2023-09-29 13:00:55.892888: W tensorflow/stream_executor/platform/default/dso_loader.cc:64] Could not load dynamic library 'libnvinfer_plugin.so.7'; dlerror: libnvinfer_plugin.so.7: cannot open shared object file: No such file or directory; LD_LIBRARY_PATH: /home/jonat/miniconda3/envs/audioDetection/lib/python3.9/site-packages/nvidia/cudnn/lib:/home/jonat/miniconda3/envs/audioDetection/lib/:/home/jonat/miniconda3/lib/python3.11/site-packages/nvidia/cudnn/lib:/home/jonat/miniconda3/lib/:/home/jonat/miniconda3/lib/python3.11/site-packages/nvidia/cudnn/lib:/home/jonat/miniconda3/lib/:\n",
      "2023-09-29 13:00:55.892895: W tensorflow/compiler/tf2tensorrt/utils/py_utils.cc:38] TF-TRT Warning: Cannot dlopen some TensorRT libraries. If you would like to use Nvidia GPU with TensorRT, please make sure the missing libraries mentioned above are installed properly.\n"
     ]
    }
   ],
   "source": [
    "import os\n",
    "import numpy as np\n",
    "import librosa\n",
    "import tensorflow as tf\n",
    "from tensorflow.keras.layers import Input, Conv2D, MaxPooling2D, Flatten, Dense, Dropout, BatchNormalization, GlobalAveragePooling2D\n",
    "from tensorflow.keras.models import Model\n",
    "from tensorflow.keras.optimizers import Adam\n",
    "from tensorflow.keras.callbacks import LearningRateScheduler, EarlyStopping, ReduceLROnPlateau\n",
    "from sklearn.metrics import classification_report\n",
    "from tensorflow.keras import regularizers"
   ]
  },
  {
   "cell_type": "code",
   "execution_count": 3,
   "metadata": {},
   "outputs": [],
   "source": [
    "# Define paths and parameters\n",
    "DATASET_PATH = \"../datasets/asvpoof-2019-dataset/LA/LA/ASVspoof2019_LA_train/flac\"\n",
    "LABEL_FILE_PATH = \"../datasets/asvpoof-2019-dataset/LA/LA/ASVspoof2019_LA_cm_protocols/ASVspoof2019.LA.cm.train.trn.txt\"\n",
    "NUM_CLASSES = 2  # Number of classes (bonafide and spoof)\n",
    "SAMPLE_RATE = 16000  # Sample rate of your audio files\n",
    "DURATION = 5  # Duration of audio clips in seconds\n",
    "N_MELS = 128  # Number of Mel frequency bins\n",
    "max_time_steps = 109  # Define the maximum time steps for your model"
   ]
  },
  {
   "cell_type": "code",
   "execution_count": 4,
   "metadata": {},
   "outputs": [
    {
     "data": {
      "text/plain": [
       "(array([[[-80.      , -80.      , -80.      , ..., -80.      ,\n",
       "          -79.780334, -72.88045 ],\n",
       "         [-79.01988 , -80.      , -80.      , ..., -80.      ,\n",
       "          -78.44866 , -71.38929 ],\n",
       "         [-56.55169 , -58.876152, -62.864876, ..., -64.179985,\n",
       "          -64.382416, -62.98656 ],\n",
       "         ...,\n",
       "         [-80.      , -80.      , -80.      , ..., -80.      ,\n",
       "          -80.      , -80.      ],\n",
       "         [-80.      , -80.      , -80.      , ..., -80.      ,\n",
       "          -80.      , -80.      ],\n",
       "         [-80.      , -80.      , -80.      , ..., -80.      ,\n",
       "          -80.      , -80.      ]],\n",
       " \n",
       "        [[-61.6914  , -67.7376  , -80.      , ..., -80.      ,\n",
       "          -80.      , -80.      ],\n",
       "         [-59.644173, -65.750244, -80.      , ..., -80.      ,\n",
       "          -80.      , -80.      ],\n",
       "         [-56.641624, -59.121216, -60.503258, ..., -66.97651 ,\n",
       "          -61.738617, -61.10951 ],\n",
       "         ...,\n",
       "         [-80.      , -80.      , -80.      , ..., -69.02563 ,\n",
       "          -69.156944, -78.21169 ],\n",
       "         [-80.      , -80.      , -80.      , ..., -71.52454 ,\n",
       "          -70.85034 , -79.14786 ],\n",
       "         [-80.      , -80.      , -80.      , ..., -72.021805,\n",
       "          -69.803986, -75.93497 ]],\n",
       " \n",
       "        [[-69.98228 , -76.04011 , -80.      , ...,   0.      ,\n",
       "            0.      ,   0.      ],\n",
       "         [-67.97529 , -73.959015, -80.      , ...,   0.      ,\n",
       "            0.      ,   0.      ],\n",
       "         [-62.14383 , -64.69522 , -67.79208 , ...,   0.      ,\n",
       "            0.      ,   0.      ],\n",
       "         ...,\n",
       "         [-80.      , -80.      , -80.      , ...,   0.      ,\n",
       "            0.      ,   0.      ],\n",
       "         [-80.      , -80.      , -80.      , ...,   0.      ,\n",
       "            0.      ,   0.      ],\n",
       "         [-80.      , -80.      , -80.      , ...,   0.      ,\n",
       "            0.      ,   0.      ]],\n",
       " \n",
       "        ...,\n",
       " \n",
       "        [[-61.6585  , -67.69194 , -80.      , ..., -80.      ,\n",
       "          -80.      , -80.      ],\n",
       "         [-60.33898 , -66.84305 , -80.      , ..., -80.      ,\n",
       "          -80.      , -80.      ],\n",
       "         [-46.277893, -47.263687, -47.94363 , ..., -51.154816,\n",
       "          -57.130535, -54.305283],\n",
       "         ...,\n",
       "         [-80.      , -80.      , -80.      , ..., -80.      ,\n",
       "          -80.      , -80.      ],\n",
       "         [-80.      , -80.      , -80.      , ..., -80.      ,\n",
       "          -80.      , -80.      ],\n",
       "         [-80.      , -80.      , -80.      , ..., -80.      ,\n",
       "          -80.      , -80.      ]],\n",
       " \n",
       "        [[-52.484528, -58.52201 , -80.      , ...,   0.      ,\n",
       "            0.      ,   0.      ],\n",
       "         [-51.883698, -57.69593 , -79.98902 , ...,   0.      ,\n",
       "            0.      ,   0.      ],\n",
       "         [-41.641983, -41.303894, -40.188656, ...,   0.      ,\n",
       "            0.      ,   0.      ],\n",
       "         ...,\n",
       "         [-80.      , -80.      , -80.      , ...,   0.      ,\n",
       "            0.      ,   0.      ],\n",
       "         [-80.      , -80.      , -80.      , ...,   0.      ,\n",
       "            0.      ,   0.      ],\n",
       "         [-80.      , -80.      , -80.      , ...,   0.      ,\n",
       "            0.      ,   0.      ]],\n",
       " \n",
       "        [[-55.23779 , -61.307297, -80.      , ..., -80.      ,\n",
       "          -80.      , -80.      ],\n",
       "         [-52.160995, -58.20171 , -80.      , ..., -72.45917 ,\n",
       "          -72.40448 , -75.266014],\n",
       "         [-44.89133 , -47.58041 , -51.22289 , ..., -41.319458,\n",
       "          -35.084293, -30.999529],\n",
       "         ...,\n",
       "         [-80.      , -80.      , -80.      , ..., -69.31484 ,\n",
       "          -68.84004 , -63.794525],\n",
       "         [-80.      , -80.      , -80.      , ..., -69.51663 ,\n",
       "          -68.842384, -67.2817  ],\n",
       "         [-80.      , -80.      , -80.      , ..., -79.97504 ,\n",
       "          -78.132744, -76.850876]]], dtype=float32),\n",
       " array([1, 1, 1, ..., 0, 0, 0]))"
      ]
     },
     "execution_count": 4,
     "metadata": {},
     "output_type": "execute_result"
    }
   ],
   "source": [
    "labels = {}\n",
    "\n",
    "with open(LABEL_FILE_PATH, 'r') as label_file:\n",
    "    lines = label_file.readlines()\n",
    "\n",
    "for line in lines:\n",
    "    parts = line.strip().split()\n",
    "    file_name = parts[1]\n",
    "    label = 1 if parts[-1] == \"bonafide\" else 0\n",
    "    labels[file_name] = label\n",
    "\n",
    "X = []\n",
    "y = []\n",
    "\n",
    "max_time_steps = 109  # Define the maximum time steps for your model\n",
    "\n",
    "for file_name, label in labels.items():\n",
    "    file_path = os.path.join(DATASET_PATH, file_name + \".flac\")\n",
    "\n",
    "    # Load audio file using librosa\n",
    "    audio, _ = librosa.load(file_path, sr=SAMPLE_RATE, duration=DURATION)\n",
    "\n",
    "    # Extract Mel spectrogram using librosa\n",
    "    mel_spectrogram = librosa.feature.melspectrogram(y=audio, sr=SAMPLE_RATE, n_mels=N_MELS)\n",
    "    mel_spectrogram = librosa.power_to_db(mel_spectrogram, ref=np.max)\n",
    "\n",
    "    # Ensure all spectrograms have the same width (time steps)\n",
    "    if mel_spectrogram.shape[1] < max_time_steps:\n",
    "        mel_spectrogram = np.pad(mel_spectrogram, ((0, 0), (0, max_time_steps - mel_spectrogram.shape[1])), mode='constant')\n",
    "    else:\n",
    "        mel_spectrogram = mel_spectrogram[:, :max_time_steps]\n",
    "\n",
    "    X.append(mel_spectrogram)\n",
    "    y.append(label)\n",
    "\n",
    "X = np.array(X)\n",
    "y = np.array(y)\n",
    "\n",
    "X,y\n"
   ]
  },
  {
   "cell_type": "code",
   "execution_count": 5,
   "metadata": {},
   "outputs": [
    {
     "ename": "NameError",
     "evalue": "name 'to_categorical' is not defined",
     "output_type": "error",
     "traceback": [
      "\u001b[0;31m---------------------------------------------------------------------------\u001b[0m",
      "\u001b[0;31mNameError\u001b[0m                                 Traceback (most recent call last)",
      "\u001b[1;32m/home/jonat/FakeVoiceDetection/improved_code.ipynb Cell 4\u001b[0m line \u001b[0;36m1\n\u001b[0;32m----> <a href='vscode-notebook-cell://ssh-remote%2B172.30.55.145/home/jonat/FakeVoiceDetection/improved_code.ipynb#W3sdnNjb2RlLXJlbW90ZQ%3D%3D?line=0'>1</a>\u001b[0m y_encoded \u001b[39m=\u001b[39m to_categorical(y, NUM_CLASSES)\n\u001b[1;32m      <a href='vscode-notebook-cell://ssh-remote%2B172.30.55.145/home/jonat/FakeVoiceDetection/improved_code.ipynb#W3sdnNjb2RlLXJlbW90ZQ%3D%3D?line=2'>3</a>\u001b[0m split_index \u001b[39m=\u001b[39m \u001b[39mint\u001b[39m(\u001b[39m0.8\u001b[39m \u001b[39m*\u001b[39m \u001b[39mlen\u001b[39m(X))\n\u001b[1;32m      <a href='vscode-notebook-cell://ssh-remote%2B172.30.55.145/home/jonat/FakeVoiceDetection/improved_code.ipynb#W3sdnNjb2RlLXJlbW90ZQ%3D%3D?line=3'>4</a>\u001b[0m X_train, X_val \u001b[39m=\u001b[39m X[:split_index], X[split_index:]\n",
      "\u001b[0;31mNameError\u001b[0m: name 'to_categorical' is not defined"
     ]
    }
   ],
   "source": [
    "y_encoded = to_categorical(y, NUM_CLASSES)\n",
    "\n",
    "split_index = int(0.8 * len(X))\n",
    "X_train, X_val = X[:split_index], X[split_index:]\n",
    "y_train, y_val = y_encoded[:split_index], y_encoded[split_index:]"
   ]
  }
 ],
 "metadata": {
  "kernelspec": {
   "display_name": "Python 3",
   "language": "python",
   "name": "python3"
  },
  "language_info": {
   "codemirror_mode": {
    "name": "ipython",
    "version": 3
   },
   "file_extension": ".py",
   "mimetype": "text/x-python",
   "name": "python",
   "nbconvert_exporter": "python",
   "pygments_lexer": "ipython3",
   "version": "3.10.13 (main, Sep 11 2023, 13:21:10) [GCC 11.2.0]"
  },
  "orig_nbformat": 4,
  "vscode": {
   "interpreter": {
    "hash": "513d186a859c888c0ae87928867d531a5f003b28dc95e180424e2aef27bc2e74"
   }
  }
 },
 "nbformat": 4,
 "nbformat_minor": 2
}
